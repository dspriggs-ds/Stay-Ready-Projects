{
 "cells": [
  {
   "cell_type": "markdown",
   "metadata": {},
   "source": [
    "## Purpose\n",
    "This Jupyter notebook for data analysis,of Microsoft's stock (MSFT). Here's a brief summary of what each part of the code does:\n",
    "\n",
    "1. It imports necessary libraries such as pandasai, numpy, os, pandas, seaborn, and warnings. These libraries are commonly used for data manipulation, analysis, and visualization.\n",
    "\n",
    "2. It retrieves the OpenAI API key from the environment variables. This key is used to authenticate requests to the OpenAI API.\n",
    "\n",
    "3. It creates an instance of the OpenAI class from the pandasai.llm.openai module, passing the API key as a parameter. This object (llm) can be used to interact with the OpenAI API.\n",
    "\n",
    "4. It sets the warnings to be ignored. This is done to prevent the output from being cluttered with warning messages that may not be relevant to the analysis.\n",
    "\n",
    "5. It reads a CSV file named \"MSFT.csv\" into a pandas DataFrame (msft_df). This file presumably contains data related to Microsoft's stock."
   ]
  },
  {
   "cell_type": "code",
   "execution_count": 1,
   "metadata": {},
   "outputs": [
    {
     "name": "stdout",
     "output_type": "stream",
     "text": [
      "ERROR: unknown command \"instal/l\" - maybe you meant \"install\"\n",
      "Note: you may need to restart the kernel to use updated packages.\n"
     ]
    }
   ],
   "source": [
    "%pip instal/l --upgrade pandas pandasai"
   ]
  },
  {
   "cell_type": "code",
   "execution_count": 2,
   "metadata": {},
   "outputs": [],
   "source": [
    "from pandasai import Agent\n",
    "from pandasai.llm.openai import OpenAI\n",
    "import numpy as np\n",
    "import os\n",
    "import pandas as pd\n",
    "import seaborn as sns\n",
    "import warnings\n",
    "\n",
    "\n",
    "open_ai_key = os.environ[\"OPENAI_API_KEY\"]\n",
    "\n",
    "llm = OpenAI(api_token=open_ai_key)\n",
    "\n",
    "warnings.filterwarnings('ignore')\n",
    "\n",
    "msft_df = pd.read_csv(\"MSFT.csv\")\n"
   ]
  },
  {
   "cell_type": "code",
   "execution_count": 3,
   "metadata": {},
   "outputs": [
    {
     "data": {
      "text/plain": [
       "(1509, 7)"
      ]
     },
     "execution_count": 3,
     "metadata": {},
     "output_type": "execute_result"
    }
   ],
   "source": [
    "msft_df.shape"
   ]
  },
  {
   "cell_type": "code",
   "execution_count": 4,
   "metadata": {},
   "outputs": [
    {
     "data": {
      "text/html": [
       "<div>\n",
       "<style scoped>\n",
       "    .dataframe tbody tr th:only-of-type {\n",
       "        vertical-align: middle;\n",
       "    }\n",
       "\n",
       "    .dataframe tbody tr th {\n",
       "        vertical-align: top;\n",
       "    }\n",
       "\n",
       "    .dataframe thead th {\n",
       "        text-align: right;\n",
       "    }\n",
       "</style>\n",
       "<table border=\"1\" class=\"dataframe\">\n",
       "  <thead>\n",
       "    <tr style=\"text-align: right;\">\n",
       "      <th></th>\n",
       "      <th>Open</th>\n",
       "      <th>High</th>\n",
       "      <th>Low</th>\n",
       "      <th>Close</th>\n",
       "      <th>Adj_Close</th>\n",
       "      <th>Volume</th>\n",
       "    </tr>\n",
       "  </thead>\n",
       "  <tbody>\n",
       "    <tr>\n",
       "      <th>count</th>\n",
       "      <td>1509.000000</td>\n",
       "      <td>1509.000000</td>\n",
       "      <td>1509.000000</td>\n",
       "      <td>1509.000000</td>\n",
       "      <td>1509.000000</td>\n",
       "      <td>1.509000e+03</td>\n",
       "    </tr>\n",
       "    <tr>\n",
       "      <th>mean</th>\n",
       "      <td>217.444082</td>\n",
       "      <td>219.683976</td>\n",
       "      <td>215.135672</td>\n",
       "      <td>217.523439</td>\n",
       "      <td>212.882780</td>\n",
       "      <td>2.976836e+07</td>\n",
       "    </tr>\n",
       "    <tr>\n",
       "      <th>std</th>\n",
       "      <td>84.150776</td>\n",
       "      <td>84.913687</td>\n",
       "      <td>83.398538</td>\n",
       "      <td>84.215329</td>\n",
       "      <td>85.382289</td>\n",
       "      <td>1.256376e+07</td>\n",
       "    </tr>\n",
       "    <tr>\n",
       "      <th>min</th>\n",
       "      <td>86.300003</td>\n",
       "      <td>88.930000</td>\n",
       "      <td>83.830002</td>\n",
       "      <td>85.010002</td>\n",
       "      <td>79.351578</td>\n",
       "      <td>8.989200e+06</td>\n",
       "    </tr>\n",
       "    <tr>\n",
       "      <th>25%</th>\n",
       "      <td>136.800003</td>\n",
       "      <td>137.690002</td>\n",
       "      <td>135.339996</td>\n",
       "      <td>136.419998</td>\n",
       "      <td>130.879257</td>\n",
       "      <td>2.178690e+07</td>\n",
       "    </tr>\n",
       "    <tr>\n",
       "      <th>50%</th>\n",
       "      <td>226.740005</td>\n",
       "      <td>229.309998</td>\n",
       "      <td>224.110001</td>\n",
       "      <td>225.949997</td>\n",
       "      <td>221.911392</td>\n",
       "      <td>2.661100e+07</td>\n",
       "    </tr>\n",
       "    <tr>\n",
       "      <th>75%</th>\n",
       "      <td>286.220001</td>\n",
       "      <td>289.510010</td>\n",
       "      <td>283.010010</td>\n",
       "      <td>286.440002</td>\n",
       "      <td>282.085693</td>\n",
       "      <td>3.362450e+07</td>\n",
       "    </tr>\n",
       "    <tr>\n",
       "      <th>max</th>\n",
       "      <td>406.059998</td>\n",
       "      <td>409.980011</td>\n",
       "      <td>404.329987</td>\n",
       "      <td>409.720001</td>\n",
       "      <td>409.720001</td>\n",
       "      <td>1.112421e+08</td>\n",
       "    </tr>\n",
       "  </tbody>\n",
       "</table>\n",
       "</div>"
      ],
      "text/plain": [
       "              Open         High          Low        Close    Adj_Close  \\\n",
       "count  1509.000000  1509.000000  1509.000000  1509.000000  1509.000000   \n",
       "mean    217.444082   219.683976   215.135672   217.523439   212.882780   \n",
       "std      84.150776    84.913687    83.398538    84.215329    85.382289   \n",
       "min      86.300003    88.930000    83.830002    85.010002    79.351578   \n",
       "25%     136.800003   137.690002   135.339996   136.419998   130.879257   \n",
       "50%     226.740005   229.309998   224.110001   225.949997   221.911392   \n",
       "75%     286.220001   289.510010   283.010010   286.440002   282.085693   \n",
       "max     406.059998   409.980011   404.329987   409.720001   409.720001   \n",
       "\n",
       "             Volume  \n",
       "count  1.509000e+03  \n",
       "mean   2.976836e+07  \n",
       "std    1.256376e+07  \n",
       "min    8.989200e+06  \n",
       "25%    2.178690e+07  \n",
       "50%    2.661100e+07  \n",
       "75%    3.362450e+07  \n",
       "max    1.112421e+08  "
      ]
     },
     "execution_count": 4,
     "metadata": {},
     "output_type": "execute_result"
    }
   ],
   "source": [
    "msft_df.describe()"
   ]
  },
  {
   "cell_type": "code",
   "execution_count": 5,
   "metadata": {},
   "outputs": [
    {
     "name": "stdout",
     "output_type": "stream",
     "text": [
      "<class 'pandas.core.frame.DataFrame'>\n",
      "RangeIndex: 1509 entries, 0 to 1508\n",
      "Data columns (total 7 columns):\n",
      " #   Column     Non-Null Count  Dtype  \n",
      "---  ------     --------------  -----  \n",
      " 0   Date       1509 non-null   object \n",
      " 1   Open       1509 non-null   float64\n",
      " 2   High       1509 non-null   float64\n",
      " 3   Low        1509 non-null   float64\n",
      " 4   Close      1509 non-null   float64\n",
      " 5   Adj_Close  1509 non-null   float64\n",
      " 6   Volume     1509 non-null   int64  \n",
      "dtypes: float64(5), int64(1), object(1)\n",
      "memory usage: 82.6+ KB\n"
     ]
    }
   ],
   "source": [
    "msft_df.info()"
   ]
  },
  {
   "cell_type": "code",
   "execution_count": 6,
   "metadata": {},
   "outputs": [
    {
     "data": {
      "text/html": [
       "<div>\n",
       "<style scoped>\n",
       "    .dataframe tbody tr th:only-of-type {\n",
       "        vertical-align: middle;\n",
       "    }\n",
       "\n",
       "    .dataframe tbody tr th {\n",
       "        vertical-align: top;\n",
       "    }\n",
       "\n",
       "    .dataframe thead th {\n",
       "        text-align: right;\n",
       "    }\n",
       "</style>\n",
       "<table border=\"1\" class=\"dataframe\">\n",
       "  <thead>\n",
       "    <tr style=\"text-align: right;\">\n",
       "      <th></th>\n",
       "      <th>Date</th>\n",
       "      <th>Open</th>\n",
       "      <th>High</th>\n",
       "      <th>Low</th>\n",
       "      <th>Close</th>\n",
       "      <th>Adj_Close</th>\n",
       "      <th>Volume</th>\n",
       "    </tr>\n",
       "  </thead>\n",
       "  <tbody>\n",
       "    <tr>\n",
       "      <th>0</th>\n",
       "      <td>2018-01-30</td>\n",
       "      <td>93.300003</td>\n",
       "      <td>93.660004</td>\n",
       "      <td>92.099998</td>\n",
       "      <td>92.739998</td>\n",
       "      <td>86.567062</td>\n",
       "      <td>38635100</td>\n",
       "    </tr>\n",
       "    <tr>\n",
       "      <th>1</th>\n",
       "      <td>2018-01-31</td>\n",
       "      <td>93.750000</td>\n",
       "      <td>95.400002</td>\n",
       "      <td>93.510002</td>\n",
       "      <td>95.010002</td>\n",
       "      <td>88.685974</td>\n",
       "      <td>48756300</td>\n",
       "    </tr>\n",
       "    <tr>\n",
       "      <th>2</th>\n",
       "      <td>2018-02-01</td>\n",
       "      <td>94.790001</td>\n",
       "      <td>96.070000</td>\n",
       "      <td>93.580002</td>\n",
       "      <td>94.260002</td>\n",
       "      <td>87.985878</td>\n",
       "      <td>47227900</td>\n",
       "    </tr>\n",
       "    <tr>\n",
       "      <th>3</th>\n",
       "      <td>2018-02-02</td>\n",
       "      <td>93.639999</td>\n",
       "      <td>93.970001</td>\n",
       "      <td>91.500000</td>\n",
       "      <td>91.779999</td>\n",
       "      <td>85.670937</td>\n",
       "      <td>47867800</td>\n",
       "    </tr>\n",
       "    <tr>\n",
       "      <th>4</th>\n",
       "      <td>2018-02-05</td>\n",
       "      <td>90.559998</td>\n",
       "      <td>93.239998</td>\n",
       "      <td>88.000000</td>\n",
       "      <td>88.000000</td>\n",
       "      <td>82.142555</td>\n",
       "      <td>51031500</td>\n",
       "    </tr>\n",
       "  </tbody>\n",
       "</table>\n",
       "</div>"
      ],
      "text/plain": [
       "         Date       Open       High        Low      Close  Adj_Close    Volume\n",
       "0  2018-01-30  93.300003  93.660004  92.099998  92.739998  86.567062  38635100\n",
       "1  2018-01-31  93.750000  95.400002  93.510002  95.010002  88.685974  48756300\n",
       "2  2018-02-01  94.790001  96.070000  93.580002  94.260002  87.985878  47227900\n",
       "3  2018-02-02  93.639999  93.970001  91.500000  91.779999  85.670937  47867800\n",
       "4  2018-02-05  90.559998  93.239998  88.000000  88.000000  82.142555  51031500"
      ]
     },
     "execution_count": 6,
     "metadata": {},
     "output_type": "execute_result"
    }
   ],
   "source": [
    "msft_df.head()"
   ]
  },
  {
   "cell_type": "code",
   "execution_count": 7,
   "metadata": {},
   "outputs": [
    {
     "data": {
      "text/plain": [
       "Date         0\n",
       "Open         0\n",
       "High         0\n",
       "Low          0\n",
       "Close        0\n",
       "Adj_Close    0\n",
       "Volume       0\n",
       "dtype: int64"
      ]
     },
     "execution_count": 7,
     "metadata": {},
     "output_type": "execute_result"
    }
   ],
   "source": [
    "msft_df.isnull().sum()"
   ]
  },
  {
   "cell_type": "code",
   "execution_count": 8,
   "metadata": {},
   "outputs": [
    {
     "data": {
      "image/png": "[encoded data removed]",
      "text/plain": [
       "<Figure size 640x480 with 1 Axes>"
      ]
     },
     "metadata": {},
     "output_type": "display_data"
    },
    {
     "data": {
      "text/plain": [
       "'I analyzed the data and grouped it by year. Then, I calculated the average closing value for each year. Finally, I plotted the average closing values on a graph to show how they change over time.'"
      ]
     },
     "execution_count": 8,
     "metadata": {},
     "output_type": "execute_result"
    }
   ],
   "source": [
    "agent = Agent([msft_df], config={\"llm\": llm})\n",
    "agent.chat('Plot the average Close by year')\n",
    "agent.explain()"
   ]
  }
 ],
 "metadata": {
  "kernelspec": {
   "display_name": "pynotebook",
   "language": "python",
   "name": "python3"
  },
  "language_info": {
   "codemirror_mode": {
    "name": "ipython",
    "version": 3
   },
   "file_extension": ".py",
   "mimetype": "text/x-python",
   "name": "python",
   "nbconvert_exporter": "python",
   "pygments_lexer": "ipython3",
   "version": "3.9.18"
  }
 },
 "nbformat": 4,
 "nbformat_minor": 2
}
